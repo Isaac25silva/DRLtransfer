{
 "cells": [
  {
   "cell_type": "code",
   "execution_count": 1,
   "metadata": {},
   "outputs": [
    {
     "name": "stderr",
     "output_type": "stream",
     "text": [
      "Using TensorFlow backend.\n"
     ]
    }
   ],
   "source": [
    "from __future__ import division\n",
    "import argparse\n",
    "\n",
    "from PIL import Image\n",
    "import numpy as np\n",
    "import gym\n",
    "\n",
    "from keras.models import Sequential\n",
    "from keras.layers import Dense, Activation, Flatten, Convolution2D, Permute\n",
    "from keras.optimizers import Adam\n",
    "import keras.backend as K\n",
    "\n",
    "from rl.agents.dqn import DQNAgent\n",
    "from rl.policy import LinearAnnealedPolicy, BoltzmannQPolicy, EpsGreedyQPolicy\n",
    "from rl.memory import SequentialMemory\n",
    "from rl.core import Processor\n",
    "from rl.callbacks import FileLogger, ModelIntervalCheckpoint"
   ]
  },
  {
   "cell_type": "code",
   "execution_count": 2,
   "metadata": {
    "collapsed": true
   },
   "outputs": [],
   "source": [
    "INPUT_SHAPE = (84, 84)\n",
    "WINDOW_LENGTH = 4\n",
    "\n",
    "\n",
    "class AtariProcessor(Processor):\n",
    "    def process_observation(self, observation):\n",
    "        assert observation.ndim == 3  # (height, width, channel)\n",
    "        img = Image.fromarray(observation)\n",
    "        img = img.resize(INPUT_SHAPE).convert('L')  # resize and convert to grayscale\n",
    "        processed_observation = np.array(img)\n",
    "        assert processed_observation.shape == INPUT_SHAPE\n",
    "        return processed_observation.astype('uint8')  # saves storage in experience memory\n",
    "\n",
    "    def process_state_batch(self, batch):\n",
    "        # We could perform this processing step in `process_observation`. In this case, however,\n",
    "        # we would need to store a `float32` array instead, which is 4x more memory intensive than\n",
    "        # an `uint8` array. This matters if we store 1M observations.\n",
    "        processed_batch = batch.astype('float32') / 255.\n",
    "        return processed_batch\n",
    "\n",
    "    def process_reward(self, reward):\n",
    "        return np.clip(reward, -1., 1.)"
   ]
  },
  {
   "cell_type": "code",
   "execution_count": 4,
   "metadata": {},
   "outputs": [
    {
     "name": "stderr",
     "output_type": "stream",
     "text": [
      "[2017-08-22 10:54:38,993] Making new env: BreakoutDeterministic-v4\n"
     ]
    },
    {
     "name": "stdout",
     "output_type": "stream",
     "text": [
      "env <TimeLimit<AtariEnv<BreakoutDeterministic-v4>>>\n"
     ]
    }
   ],
   "source": [
    "\n",
    "\n",
    "# Get the environment and extract the number of actions.\n",
    "env = gym.make(\"BreakoutDeterministic-v4\")\n",
    "np.random.seed(123)\n",
    "env.seed(123)\n",
    "nb_actions = env.action_space.n\n",
    "\n",
    "print \"env\", env"
   ]
  },
  {
   "cell_type": "code",
   "execution_count": 5,
   "metadata": {},
   "outputs": [
    {
     "name": "stdout",
     "output_type": "stream",
     "text": [
      "Discrete(4)\n",
      "<bound method type.class_name of <class 'gym.wrappers.time_limit.TimeLimit'>>\n",
      "<bound method TimeLimit.close of <TimeLimit<AtariEnv<BreakoutDeterministic-v4>>>>\n",
      "<bound method TimeLimit.configure of <TimeLimit<AtariEnv<BreakoutDeterministic-v4>>>>\n",
      "<AtariEnv<BreakoutDeterministic-v4>>\n",
      "{'render.modes': ['human', 'rgb_array']}\n",
      "Box(210, 160, 3)\n",
      "<bound method TimeLimit.render of <TimeLimit<AtariEnv<BreakoutDeterministic-v4>>>>\n",
      "<bound method TimeLimit.reset of <TimeLimit<AtariEnv<BreakoutDeterministic-v4>>>>\n",
      "(-inf, inf)\n",
      "<bound method TimeLimit.seed of <TimeLimit<AtariEnv<BreakoutDeterministic-v4>>>>\n"
     ]
    }
   ],
   "source": [
    "print env.action_space\n",
    "print env.class_name\n",
    "print env.close\n",
    "print env.configure\n",
    "print env.env\n",
    "print env.metadata\n",
    "print env.observation_space\n",
    "print env.render\n",
    "print env.reset\n",
    "print env.reward_range\n",
    "print env.seed"
   ]
  },
  {
   "cell_type": "code",
   "execution_count": null,
   "metadata": {
    "collapsed": true
   },
   "outputs": [],
   "source": []
  }
 ],
 "metadata": {
  "kernelspec": {
   "display_name": "Python 2",
   "language": "python",
   "name": "python2"
  },
  "language_info": {
   "codemirror_mode": {
    "name": "ipython",
    "version": 2
   },
   "file_extension": ".py",
   "mimetype": "text/x-python",
   "name": "python",
   "nbconvert_exporter": "python",
   "pygments_lexer": "ipython2",
   "version": "2.7.6"
  }
 },
 "nbformat": 4,
 "nbformat_minor": 2
}
